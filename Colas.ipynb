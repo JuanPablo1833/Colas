{
  "nbformat": 4,
  "nbformat_minor": 0,
  "metadata": {
    "colab": {
      "name": "Colas.ipynb",
      "provenance": [],
      "authorship_tag": "ABX9TyOB6vNbc4U/9of9//DWvgDK",
      "include_colab_link": true
    },
    "kernelspec": {
      "name": "python3",
      "display_name": "Python 3"
    },
    "language_info": {
      "name": "python"
    }
  },
  "cells": [
    {
      "cell_type": "markdown",
      "metadata": {
        "id": "view-in-github",
        "colab_type": "text"
      },
      "source": [
        "<a href=\"https://colab.research.google.com/github/JuanPablo1833/Colas/blob/main/Colas.ipynb\" target=\"_parent\"><img src=\"https://colab.research.google.com/assets/colab-badge.svg\" alt=\"Open In Colab\"/></a>"
      ]
    },
    {
      "cell_type": "code",
      "metadata": {
        "id": "ACNLjUecakNF"
      },
      "source": [
        "class Queue:\n",
        "    def __init__(self):\n",
        "        self.data = []\n",
        "\n",
        "    def is_empty(self):\n",
        "        return len(self.data) == 0\n",
        "        \n",
        "    def length(self):\n",
        "        return len(self.data)\n",
        "\n",
        "    def enqueue(self, value):\n",
        "        self.data.append(value)\n",
        "\n",
        "    def dequeue(self):\n",
        "        return self.data.pop(0)      \n",
        "\n",
        "    def to_string(self):\n",
        "        for elem in self.data:\n",
        "            print(f\"|{elem}|<--\", end =\"\")    \n",
        "        print(\"\")    \n"
      ],
      "execution_count": null,
      "outputs": []
    },
    {
      "cell_type": "code",
      "metadata": {
        "id": "7rbvmugaASR9"
      },
      "source": [
        "#implementacion de las cola de prioridad\n",
        "class BounderPriorityQueue:\n",
        "    def __init__(self, niveles):\n",
        "        self.__data = [Queue() for x in range(niveles)]\n",
        "        #self.__data = Array(niveles )con array\n",
        "        #self.__data.clear(Queue())\n",
        "        self.__size = 0 #numero de elementos ya ingresados en la estructura\n",
        "    \n",
        "    def is_empty( self):\n",
        "        return self.__size == 0\n",
        "    \n",
        "    def length(self):\n",
        "        return self.__size\n",
        "    \n",
        "    def enqueue(self , prioridad , elem):\n",
        "        if prioridad < len(self.__data) \\\n",
        "           and prioridad >=0:\n",
        "           self.__data[prioridad].enqueue(elem)\n",
        "           self.__size +=1\n",
        "    \n",
        "    def dequeue(self ):\n",
        "        nivel = 0\n",
        "        while self.__data[nivel].is_empty() \\\n",
        "              and nivel < self.length():\n",
        "            nivel +=1\n",
        "        if nivel >= self.length():\n",
        "            print(\" cola vacia \")\n",
        "        else:\n",
        "            return self.__data[nivel].dequeue()\n",
        "    def to_string(self ):\n",
        "        prioridad = 0\n",
        "        for cola in self.__data:\n",
        "            print(f\"prioridad{prioridad}->\", end=\"\")\n",
        "            if not cola.is_empty():\n",
        "                cola.to_string()\n",
        "                prioridad +=1\n",
        "        "
      ],
      "execution_count": null,
      "outputs": []
    },
    {
      "cell_type": "code",
      "metadata": {
        "colab": {
          "base_uri": "https://localhost:8080/"
        },
        "id": "hKAKxPjTaUKI",
        "outputId": "f51a042b-2f5d-4249-88d9-236f2be45db6"
      },
      "source": [
        "#prueba de las colas de prioridad\n",
        "salvavidas = BounderPriorityQueue(7)\n",
        "salvavidas.enqueue(4,\" Maestre \")\n",
        "salvavidas.enqueue(2, \"Niños \")\n",
        "salvavidas.enqueue(4, \"Mecanico \")\n",
        "salvavidas.enqueue(3, \"Mujeres \")\n",
        "salvavidas.enqueue(2,\" Tercera edad \")\n",
        "salvavidas.enqueue(1,\" Niñas \")\n",
        "salvavidas.enqueue(3,\" Hombres \")\n",
        "salvavidas.enqueue(4,\" Vigia \")\n",
        "salvavidas.enqueue(5,\" Capitan \")\n",
        "salvavidas.enqueue(4,\" Timonel \")\n",
        "salvavidas.to_string()\n",
        "sig = salvavidas.dequeue()\n",
        "print(f\"subiendo {sig}al bote\")\n",
        "salvavidas.to_string\n",
        "print(\"-----------------\")\n",
        "sig = salvavidas.dequeue()\n",
        "print(f\"subiendo {sig}al bote\")\n",
        "salvavidas.to_string\n",
        "print(\"-----------------\")\n",
        "sig = salvavidas.dequeue()\n",
        "print(f\"subiendo {sig}al bote\")\n",
        "salvavidas.to_string"
      ],
      "execution_count": null,
      "outputs": [
        {
          "output_type": "stream",
          "name": "stdout",
          "text": [
            "prioridad0->prioridad0->| Niñas |<--\n",
            "prioridad1->|Niños |<--| Tercera edad |<--\n",
            "prioridad2->|Mujeres |<--| Hombres |<--\n",
            "prioridad3->| Maestre |<--|Mecanico |<--| Vigia |<--| Timonel |<--\n",
            "prioridad4->| Capitan |<--\n",
            "prioridad5->subiendo  Niñas al bote\n",
            "-----------------\n",
            "subiendo Niños al bote\n",
            "-----------------\n",
            "subiendo  Tercera edad al bote\n"
          ]
        },
        {
          "output_type": "execute_result",
          "data": {
            "text/plain": [
              "<bound method BounderPriorityQueue.to_string of <__main__.BounderPriorityQueue object at 0x7f8e2b2e8f90>>"
            ]
          },
          "metadata": {},
          "execution_count": 5
        }
      ]
    },
    {
      "cell_type": "code",
      "metadata": {
        "id": "UCG0C8tFassU"
      },
      "source": [
        "class PriorityQueue:\n",
        "    def __init__(self):\n",
        "        self.__data=[]\n",
        "        self.__size = 0\n",
        "\n",
        "    def is_empty( self):\n",
        "        return self.__size == 0\n",
        "    \n",
        "    def length(slef):\n",
        "        return self.__size\n",
        "\n",
        "    def enqueue(self , prioridad , elem ):\n",
        "        existe = False\n",
        "        indice = 0\n",
        "        for index in range(len(self.__data)):\n",
        "            if self.__data[index][ \"prioridad\" ] == prioridad:\n",
        "                existe = True\n",
        "                indice = index\n",
        "\n",
        "\n",
        "        if existe:\n",
        "            self.__data[indices].enqueue(elem)\n",
        "        else:\n",
        "            self.__data.append({\"prioridad\":prioridad, \"cola\": Queue()})\n",
        "            self.__data[-1][\"cola\"].enqueue(elem)\n",
        "\n",
        "    def enqueue(self , prioridad , elem ):\n",
        "        existe = False\n",
        "        indice = 0\n",
        "        for index in range(len(self.__data)):\n",
        "            if self.__data[index][ \"prioridad\" ] == prioridad:\n",
        "                existe = True\n",
        "                indice = index\n",
        "        \n",
        "        if existe:\n",
        "            self.__data[indice][\"cola\"].enqueue(elem)\n",
        "        else:\n",
        "            self.__data.append( {\"prioridad\":prioridad , \"cola\": Queue() } )\n",
        "            self.__data[-1][\"cola\"].enqueue(elem)\n",
        "\n",
        "\n",
        "    def to_string( self ):\n",
        "        for cola in self.__data:\n",
        "            cola[\"cola\"].to_string()\n"
      ],
      "execution_count": null,
      "outputs": []
    },
    {
      "cell_type": "code",
      "metadata": {
        "id": "EWfzBwdratsc",
        "colab": {
          "base_uri": "https://localhost:8080/"
        },
        "outputId": "d6e9bd5e-0a1f-4ccd-ae23-db4f3de07dcc"
      },
      "source": [
        "cp = PriorityQueue()\n",
        "cp.enqueue(1, \"niñas\")\n",
        "cp.enqueue(2, \"niños\")\n",
        "cp.enqueue(2, \"profesores\")\n",
        "cp.to_string()\n"
      ],
      "execution_count": null,
      "outputs": [
        {
          "output_type": "stream",
          "name": "stdout",
          "text": [
            "|niñas|<--\n",
            "|niños|<--|profesores|<--\n"
          ]
        }
      ]
    }
  ]
}